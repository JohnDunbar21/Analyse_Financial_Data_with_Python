{
 "cells": [
  {
   "cell_type": "markdown",
   "metadata": {},
   "source": [
    "# Pandas Datareader Module\n",
    "\n",
    "The `pandas_datareader` module is designed to interact with some of the world's most popular finance data APIs and import their data into an easily digestible pandas DataFrame.\n",
    "\n",
    "Each API is accessed using a different function: generally accessing each API requires a different set of arguments and information provided by the programmer.\n",
    "\n",
    "Click here for the [pandas_datareader documentation.](https://pandas-datareader.readthedocs.io/en/latest/index.html)"
   ]
  },
  {
   "cell_type": "code",
   "execution_count": null,
   "metadata": {},
   "outputs": [],
   "source": [
    "%pip install pandas-datareader datetime"
   ]
  },
  {
   "cell_type": "code",
   "execution_count": null,
   "metadata": {},
   "outputs": [],
   "source": [
    "from pandas_datareader import wb\n",
    "from datetime import datetime\n",
    "\n",
    "start = datetime(2005, 1, 1)\n",
    "end = datetime(2008, 1, 1)\n",
    "indicator_id = 'NY.GDP.PCAP.KD'\n",
    "\n",
    "gdp_per_capita = wb.download(indicator=indicator_id, start=start, end=end, country=['US', 'CA', 'MX'])\n",
    "\n",
    "print(gdp_per_capita)"
   ]
  },
  {
   "cell_type": "markdown",
   "metadata": {},
   "source": [
    "## Getting NASDAQ Symbols\n",
    "\n",
    "The NASDAQ stock exchange identifies each of its stocks using a unique identifier such as **APPL** for Apple.\n",
    "\n",
    "The `pandas_datareader` module provides several functions for importing data from NASDAQ's API through the `nasdaq_trader` sub-module."
   ]
  },
  {
   "cell_type": "code",
   "execution_count": null,
   "metadata": {},
   "outputs": [],
   "source": [
    "from pandas_datareader.nasdaq_trader import get_nasdaq_symbols\n",
    "\n",
    "\"\"\"\n",
    "Throws TypeError: read_csv() takes 1 positional argument but 2 positional arguments (and 3 keyword-only arguments) were given\n",
    "\"\"\"\n",
    "symbols = get_nasdaq_symbols()\n",
    "\n",
    "print(symbols)"
   ]
  },
  {
   "cell_type": "markdown",
   "metadata": {},
   "source": [
    "## Filtering Data by Date\n",
    "\n",
    "One API that keeps track of data dating back several decades is the Federal Reserve Bank of St. Louis (FRED), whose API marker is `\"fred\"`. "
   ]
  },
  {
   "cell_type": "code",
   "execution_count": null,
   "metadata": {},
   "outputs": [],
   "source": [
    "import pandas_datareader.data as web\n",
    "\n",
    "start = datetime(2019, 1, 1)\n",
    "end = datetime(2019, 2, 1)\n",
    "\n",
    "# S&P 500 Daily Market Cap using FRED\n",
    "sap_data = web.DataReader(\"SP500\", \"fred\", start, end)\n",
    "\n",
    "print(sap_data)"
   ]
  },
  {
   "cell_type": "markdown",
   "metadata": {},
   "source": [
    "## API Keys\n",
    "\n",
    "An API key is a unique string used to identify and authenticate entities requesting data.\n",
    "\n",
    "003026bbc133714df1834b8638bb496e-8f4b3d9a-e931\n",
    "\n",
    "Like the example above, API keys are generally long, randomly generated strings provided by the API.\n",
    "\n",
    "Some APIs don’t require a key to access data, but in general, most do.\n",
    "\n",
    "You can obtain a key by signing up with the website or organization hosting the API.\n",
    "\n",
    "A good rule is to treat your API keys like you would a password. You don’t want to share them with anyone, and in the case of software development, you don’t want to check them into source control systems like GitHub\n",
    "\n",
    "One of the risks of using public APIs is that you’re relying on an external service to work as expected at all times, and they often don’t.\n",
    "\n",
    "When an API is intermittently offline or not working we call it **flaky**.\n",
    "\n",
    "You can’t control if an API acts flaky, but here’s a few tips to help ensure it doesn’t prevent you from building something great.\n",
    "\n",
    "1. Test your code - Testing as often as possible will ensure your code works from day to day and will help to identify any APIs that are consistently acting flaky.\n",
    "\n",
    "2. Keep up to date with the datareader documentation - Because we’re accessing these finance APIs through pandas-datareader, that’s a good place to look if an API starts acting unexpectedly.\n",
    "\n",
    "3. Actively monitoring the pandas-datareader project on GitHub - Sometimes there are bugs in the pandas-datareader project, instead of the APIs it’s calling. The github page for the project is a good place to ask questions and stay up to date on the latest issues identified in the project."
   ]
  },
  {
   "cell_type": "markdown",
   "metadata": {},
   "source": [
    "## Using the Shift Operation\n",
    "\n",
    "Shift can be called on a single column or an entire DataFrame where all columns will be shifted. Shifting can happen in both positive and negative directions, and is useful when dealing with financial data. Below is code using the shift operation to detemine annual gdp growth."
   ]
  },
  {
   "cell_type": "code",
   "execution_count": null,
   "metadata": {},
   "outputs": [],
   "source": [
    "import pandas_datareader.data as web\n",
    "from datetime import datetime\n",
    "\n",
    "start = datetime(2008, 1, 1)\n",
    "end = datetime(2018, 1, 1)\n",
    "\n",
    "gdp = web.DataReader(\"GDP\", \"fred\", start, end)\n",
    "\n",
    "print(gdp.head(10))\n",
    "\n",
    "gdp[\"growth\"] = gdp[\"GDP\"] - gdp[\"GDP\"].shift(1)\n",
    "\n",
    "print(gdp.head(10))"
   ]
  },
  {
   "cell_type": "markdown",
   "metadata": {},
   "source": [
    "## Variance\n",
    "\n",
    "Variance measures how far a set of numbers are spread out from their average. In finance, this is used to determine the volatility of investments.\n",
    "\n",
    "Can be performed on a dataframe using `dataframe.var()`."
   ]
  },
  {
   "cell_type": "markdown",
   "metadata": {},
   "source": [
    "## Covariance\n",
    "\n",
    "Covariance, in a financial context, describes the relationship between the returns on two different investments over a period of time, and can be used to help balance a portfolio.\n",
    "\n",
    "Calling `cov()` on our dataframe produces a matrix which defines the covariance values between each column pair in the DataFrame."
   ]
  }
 ],
 "metadata": {
  "kernelspec": {
   "display_name": "Python 3.9.6 64-bit",
   "language": "python",
   "name": "python3"
  },
  "language_info": {
   "codemirror_mode": {
    "name": "ipython",
    "version": 3
   },
   "file_extension": ".py",
   "mimetype": "text/x-python",
   "name": "python",
   "nbconvert_exporter": "python",
   "pygments_lexer": "ipython3",
   "version": "3.9.6"
  },
  "orig_nbformat": 4,
  "vscode": {
   "interpreter": {
    "hash": "81794d4967e6c3204c66dcd87b604927b115b27c00565d3d43f05ba2f3a2cb0d"
   }
  }
 },
 "nbformat": 4,
 "nbformat_minor": 2
}
