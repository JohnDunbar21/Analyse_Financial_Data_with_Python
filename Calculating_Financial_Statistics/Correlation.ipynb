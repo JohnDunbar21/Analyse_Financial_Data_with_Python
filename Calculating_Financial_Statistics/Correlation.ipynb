{
 "cells": [
  {
   "cell_type": "markdown",
   "metadata": {},
   "source": [
    "# Correlation\n",
    "\n",
    "Another important statistic for assessing the risk of an investment is the correlation between the returns of two assets. **Correlation** is a measure of how closely two datsets are associated with each other, often being represented by the *correlation coefficient* which ranges between -1 and 1. This indicates one of the following properties:\n",
    "\n",
    "- **Positive correlation** is when the rate of return of one asset deviates upward from its mean, the other usually deviates upwards as well.\n",
    "- **Negative correlation** is when the rate of return of one asset deviates upward from its mean, the other usually deviates downwards.\n",
    "- **No correlation** is when a change in one asset's rate of return does not dictate a change in another: in this case, the correlation coefficient will be close to 0.\n",
    "\n",
    "Two assets from the same industry tend to have a positive correlation.\n",
    "\n",
    "The general formula for correlation is given by:\n",
    "\n",
    "$$\\rho X,Y = {\\sum_{i = 1}^n (X_i - \\bar X)(Y_i - \\bar Y) \\over \\sqrt {\\sum_{i = 1}^n (X_i - \\bar X)^2 \\sum_{i = 1}^n (Y_i - \\bar Y)^2}}$$\n",
    "\n",
    "When building an investment portfolio, it is generally a good idea to include assets that are not correlated to each other: if assets are independent of one another, then the risk of financial loss is lower. This allows for greater diversification and balances out the overall risk and return of the portfolio. The correlation method is implemented in Python below."
   ]
  },
  {
   "cell_type": "code",
   "execution_count": null,
   "metadata": {},
   "outputs": [],
   "source": [
    "import numpy as np\n",
    "from math import sqrt\n",
    "\n",
    "returns_general_motors = [0.018, -0.005, -0.047, -0.009, -0.012, 0.003, -0.027, -0.014, 0.029, -0.062, 0.009]\n",
    "returns_ford = [0.002, -0.004, -0.027, -0.022, -0.001, 0.002, -0.006, -0.017, 0.035, -0.029, 0.002]\n",
    "returns_exxon_mobil = [0.008, 0.015, 0.009, 0.012, 0.003, -0.007, 0.006, 0.005, -0.048, 0.025, -0.012]\n",
    "returns_apple = [-0.002, 0.007, -0.004, -0.004, 0.002, 0.013, -0.011, 0.017, -0.001, 0.012, 0.006]\n",
    "\n",
    "def calculate_correlation(x, y):\n",
    "    n = len(x)\n",
    "\n",
    "    mean_x = np.mean(x)\n",
    "    mean_y = np.mean(y)\n",
    "    \n",
    "    sum_sq_x = sum((xi - mean_x) ** 2 for xi in x)\n",
    "    sum_sq_y = sum((yi - mean_y) ** 2 for yi in y)\n",
    "\n",
    "    sum_prod = sum((xi - mean_x) * (yi - mean_y) for xi, yi in zip(x, y))\n",
    "    \n",
    "    # Calculate the correlation coefficient\n",
    "    correlation = sum_prod / sqrt(sum_sq_x * sum_sq_y)\n",
    "    \n",
    "    return correlation\n",
    "\n",
    "\n",
    "corr_gm_ford = calculate_correlation(returns_general_motors, returns_ford)\n",
    "print(f'The correlation coefficient between General Motors and Ford is {corr_gm_ford}')\n",
    "\n",
    "corr_gm_ex = calculate_correlation(returns_general_motors, returns_exxon_mobil)\n",
    "print(f\"The correlation coefficient between General Motors and ExxonMobil is {corr_gm_ex}\")\n",
    "\n",
    "corr_gm_apl = calculate_correlation(returns_general_motors, returns_apple)\n",
    "print(f\"The correlation coefficient between General Motors and Apple is {corr_gm_apl}\")"
   ]
  }
 ],
 "metadata": {
  "kernelspec": {
   "display_name": "Python 3.9.6 64-bit",
   "language": "python",
   "name": "python3"
  },
  "language_info": {
   "codemirror_mode": {
    "name": "ipython",
    "version": 3
   },
   "file_extension": ".py",
   "mimetype": "text/x-python",
   "name": "python",
   "nbconvert_exporter": "python",
   "pygments_lexer": "ipython3",
   "version": "3.9.6"
  },
  "orig_nbformat": 4,
  "vscode": {
   "interpreter": {
    "hash": "81794d4967e6c3204c66dcd87b604927b115b27c00565d3d43f05ba2f3a2cb0d"
   }
  }
 },
 "nbformat": 4,
 "nbformat_minor": 2
}
