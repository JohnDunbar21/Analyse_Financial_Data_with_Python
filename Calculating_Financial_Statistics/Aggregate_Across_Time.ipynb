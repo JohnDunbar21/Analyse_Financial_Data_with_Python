{
 "cells": [
  {
   "cell_type": "markdown",
   "metadata": {},
   "source": [
    "# Aggregate Across Time\n",
    "\n",
    "When describing the rate of return (ROI) of an investment, the time frame of the investment is an important consideration. It is commonplace to convert returns to a standard time period, i.e., converting to the annual rate of return - also known as **annualising**.\n",
    "\n",
    "To convert a log rate of return from one time period to another, it can be multiplied by the number of original time periods there are in the new time period. This is given as:\n",
    "\n",
    "$$ROI = ROI_0 \\times t$$\n",
    "\n",
    "If converting daily returns to annual returns, $t$ could be 252 as this is the number of trading days in a year. If converting monthly returns to annual returns, $t$ would be 12. This is expressed in Python below."
   ]
  },
  {
   "cell_type": "code",
   "execution_count": null,
   "metadata": {},
   "outputs": [],
   "source": [
    "def display_as_percentage(val):\n",
    "  return '{:.1f}%'.format(val * 100)\n",
    "\n",
    "daily_return_a = 0.001\n",
    "monthly_return_b = 0.022\n",
    "\n",
    "print(f\"The daily rate of return for Investment A is {display_as_percentage(daily_return_a)}\")\n",
    "print(f\"The monthly rate of return for Investment B is {display_as_percentage(monthly_return_b)}\")\n",
    "\n",
    "def annualise_return(log_return, t):\n",
    "  return log_return * t\n",
    "\n",
    "annual_return_a = annualise_return(daily_return_a, 252)\n",
    "print(f\"The annual rate of return for Investment A is {display_as_percentage(annual_return_a)}\")\n",
    "\n",
    "annual_return_b = annualise_return(monthly_return_b, 12)\n",
    "print(f\"The annual rate of return for Investment B is {display_as_percentage(annual_return_b)}\")"
   ]
  },
  {
   "cell_type": "markdown",
   "metadata": {},
   "source": [
    "Suppose we know the log rate of return for five days of a given year. To find the annualised return, we must find the average of the sample and multiply by 252. More generally, this relationship can be expressed as:\n",
    "\n",
    "$$ROI = {ROI_{0_1} + ROI_{0_2} + ... + ROI_{0_n} \\over n} \\times t$$\n",
    "\n",
    "However, if we know the log return for all 252 trading days, then $n$ is equal to $t$, and the above equation can be simplified to a simple sum:\n",
    "\n",
    "$$ROI = \\sum_{i = 1}^n ROI_{0_i}$$"
   ]
  },
  {
   "cell_type": "code",
   "execution_count": null,
   "metadata": {},
   "outputs": [],
   "source": [
    "def display_as_percentage(val):\n",
    "  return '{:.1f}%'.format(val * 100)\n",
    "\n",
    "daily_returns = [0.002, -0.002, 0.003, 0.002, -0.001]\n",
    "\n",
    "def convert_returns(log_returns, t):\n",
    "  return (sum(log_returns) / len(log_returns) * t)\n",
    "\n",
    "annual_return = convert_returns(daily_returns, 252)\n",
    "print(f\"The annual rate of return is {display_as_percentage(annual_return)}\")\n",
    "\n",
    "weekly_return = convert_returns(daily_returns, 5)\n",
    "print(f\"The weekly rate of return is {display_as_percentage(weekly_return)}\")"
   ]
  },
  {
   "cell_type": "markdown",
   "metadata": {},
   "source": [
    "## Aggregating Across Assets\n",
    "\n",
    "As an aside, it is important to recognise that investments often make up the pieces of a larger *financial portfolio*. Using the **simple rate of return** makes it easy to aggregate across multiple assets, that being the weighted average of each individual asset's simple rate of return:\n",
    "\n",
    "$$ROI = (W_1 \\times R_1) + (W_2 \\times R_2) + ... + (W_n \\times R_n)$$\n",
    "\n",
    "Where each wight $W_i$ is calculated using:\n",
    "\n",
    "$$W_i = {Starting Price_i \\over Starting Price_1 + Starting Price_2 + ... + Starting Price_n}"
   ]
  }
 ],
 "metadata": {
  "kernelspec": {
   "display_name": "Python 3.9.6 64-bit",
   "language": "python",
   "name": "python3"
  },
  "language_info": {
   "codemirror_mode": {
    "name": "ipython",
    "version": 3
   },
   "file_extension": ".py",
   "mimetype": "text/x-python",
   "name": "python",
   "nbconvert_exporter": "python",
   "pygments_lexer": "ipython3",
   "version": "3.9.6"
  },
  "orig_nbformat": 4,
  "vscode": {
   "interpreter": {
    "hash": "81794d4967e6c3204c66dcd87b604927b115b27c00565d3d43f05ba2f3a2cb0d"
   }
  }
 },
 "nbformat": 4,
 "nbformat_minor": 2
}
