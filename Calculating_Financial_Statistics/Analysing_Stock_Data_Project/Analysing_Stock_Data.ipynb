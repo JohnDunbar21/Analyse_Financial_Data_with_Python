{
 "cells": [
  {
   "cell_type": "markdown",
   "metadata": {},
   "source": [
    "# Analysing Stock Data\n",
    "\n",
    "The following code hopes to explore the relationship and risk involved in investing in Amazon or Ebay.\n",
    "\n",
    "Through statistical analysis, it was found that:\n",
    "- Amazon's annual return is slightly higher than Ebay's annual return.\n",
    "- Amazon's variance for monthly returns was slightly higher than Ebay's, making it the riskier investment of the two.\n",
    "- Amazon's standard deviation was higher than Ebay's by around 2%, making investing in it much riskier: however, with the added benefit of having a higher annual return rate, it is up to the investor as to what their risk tolerance is.\n",
    "- There is a moderately strong correlation between Amazon and Ebay's monthly log rate or returns, this is suspected to be due to the fact that they operate within the same industry. It is ill advised to purchase shares in too many companies operating in the same industry, and investors are encouraged to diversify their investments in order to reduce risk of financial loss and fortify their investment portfolio."
   ]
  },
  {
   "cell_type": "code",
   "execution_count": 1,
   "metadata": {},
   "outputs": [
    {
     "name": "stdout",
     "output_type": "stream",
     "text": [
      "The monthly log rates of return for Amazon are: 4.5%, 12.4%, -0.5%, -22.6%, 5.6%, -11.8%, 13.5%, -4.7%, 8.2%, 7.9%, -8.2%, 6.5%\n",
      "The monthly log rates of return for Ebay are: -8.0%, 3.4%, -4.7%, -12.9%, 2.8%, -6.1%, 18.1%, 10.3%, -0.0%, 4.2%, -7.2%, 9.5%\n",
      "The annual log rate of return for Amazon is 10.8%\n",
      "The annual log rate of return for Ebay is 9.3%\n",
      "The variance of Amazon's monthly log rate of returns is 0.010738060556609724.\n",
      "The variance of Ebay's monthly log rate of returns is 0.007459046435081462.\n",
      "The standard deviation of Amazon's monthly log rate of returns is 10.4%\n",
      "The standard deviation of Ebay's monthly log rate of returns is 8.6%\n",
      "The correlation coefficient of Amazon and Ebay's monthly log rate returns is 0.6776978564073072.\n"
     ]
    }
   ],
   "source": [
    "from math import sqrt, log\n",
    "import numpy as np\n",
    "\n",
    "def display_as_percentage(val):\n",
    "  return '{:.1f}%'.format(val * 100)\n",
    "\n",
    "amazon_prices = [1699.8, 1777.44, 2012.71, 2003.0, 1598.01, 1690.17, 1501.97, 1718.73, 1639.83, 1780.75, 1926.52, 1775.07, 1893.63]\n",
    "ebay_prices = [35.98, 33.2, 34.35, 32.77, 28.81, 29.62, 27.86, 33.39, 37.01, 37.0, 38.6, 35.93, 39.5]\n",
    "\n",
    "def calculate_variance(dataset):\n",
    "  mean = sum(dataset) / len(dataset)\n",
    "  numerator = 0\n",
    "  for data in dataset:\n",
    "    numerator += (data - mean) ** 2\n",
    "  return numerator / len(dataset)\n",
    "\n",
    "def calculate_stddev(dataset):\n",
    "  variance = calculate_variance(dataset)\n",
    "  return sqrt(variance)\n",
    "\n",
    "def calculate_correlation(x, y):\n",
    "    n = len(x)\n",
    "\n",
    "    mean_x = np.mean(x)\n",
    "    mean_y = np.mean(y)\n",
    "    \n",
    "    sum_sq_x = sum((xi - mean_x) ** 2 for xi in x)\n",
    "    sum_sq_y = sum((yi - mean_y) ** 2 for yi in y)\n",
    "\n",
    "    sum_prod = sum((xi - mean_x) * (yi - mean_y) for xi, yi in zip(x, y))\n",
    "    \n",
    "    # Calculate the correlation coefficient\n",
    "    correlation = sum_prod / sqrt(sum_sq_x * sum_sq_y)\n",
    "    \n",
    "    return correlation\n",
    "\n",
    "def calculate_log_return(start_price, end_price):\n",
    "  return log(end_price / start_price)\n",
    "\n",
    "def get_returns(prices):\n",
    "  return [calculate_log_return(prices[x], prices[x+1]) for x in range(len(prices) - 1)]\n",
    "\n",
    "amazon_returns = get_returns(amazon_prices)\n",
    "ebay_returns = get_returns(ebay_prices)\n",
    "\n",
    "amazon_returns_percentages = \", \".join([display_as_percentage(x) for x in amazon_returns])\n",
    "ebay_returns_percentages = \", \".join([display_as_percentage(x) for x in ebay_returns])\n",
    "\n",
    "print(f\"The monthly log rates of return for Amazon are: {amazon_returns_percentages}\")\n",
    "print(f\"The monthly log rates of return for Ebay are: {ebay_returns_percentages}\")\n",
    "\n",
    "amazon_annual_returns = display_as_percentage(sum(amazon_returns))\n",
    "ebay_annual_returns = display_as_percentage(sum(ebay_returns))\n",
    "\n",
    "print(f\"The annual log rate of return for Amazon is {amazon_annual_returns}\")\n",
    "print(f\"The annual log rate of return for Ebay is {ebay_annual_returns}\")\n",
    "\n",
    "amazon_variance = calculate_variance(amazon_returns)\n",
    "ebay_variance = calculate_variance(ebay_returns)\n",
    "\n",
    "print(f\"The variance of Amazon's monthly log rate of returns is {amazon_variance}.\")\n",
    "print(f\"The variance of Ebay's monthly log rate of returns is {ebay_variance}.\")\n",
    "\n",
    "amazon_standard_deviation = calculate_stddev(amazon_returns)\n",
    "ebay_standard_deviation = calculate_stddev(ebay_returns)\n",
    "\n",
    "print(f\"The standard deviation of Amazon's monthly log rate of returns is {display_as_percentage(amazon_standard_deviation)}\")\n",
    "print(f\"The standard deviation of Ebay's monthly log rate of returns is {display_as_percentage(ebay_standard_deviation)}\")\n",
    "\n",
    "correlation = calculate_correlation(amazon_returns, ebay_returns)\n",
    "print(f\"The correlation coefficient of Amazon and Ebay's monthly log rate returns is {correlation}.\")"
   ]
  }
 ],
 "metadata": {
  "kernelspec": {
   "display_name": "Python 3.9.6 64-bit",
   "language": "python",
   "name": "python3"
  },
  "language_info": {
   "codemirror_mode": {
    "name": "ipython",
    "version": 3
   },
   "file_extension": ".py",
   "mimetype": "text/x-python",
   "name": "python",
   "nbconvert_exporter": "python",
   "pygments_lexer": "ipython3",
   "version": "3.9.6"
  },
  "orig_nbformat": 4,
  "vscode": {
   "interpreter": {
    "hash": "81794d4967e6c3204c66dcd87b604927b115b27c00565d3d43f05ba2f3a2cb0d"
   }
  }
 },
 "nbformat": 4,
 "nbformat_minor": 2
}
