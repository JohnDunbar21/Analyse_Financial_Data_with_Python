{
 "cells": [
  {
   "cell_type": "markdown",
   "metadata": {},
   "source": [
    "# Standard Deviation\n",
    "\n",
    "Whilst variance itself is useful in determining the relative risk of an investment, it can also be quite a difficult statistic to interpret since it does not have the same units as the original data: **standard deviation** is just the square root of the variance, giving it the same unit as the original dataset. This is given as:\n",
    "\n",
    "$$ \\sigma = \\sqrt {\\sum_{i = 0}^n (X_i - \\bar X)^2 \\over n} $$"
   ]
  },
  {
   "cell_type": "code",
   "execution_count": null,
   "metadata": {},
   "outputs": [],
   "source": [
    "from math import sqrt\n",
    "import numpy as np\n",
    "\n",
    "def display_as_percentage(val):\n",
    "  return '{:.1f}%'.format(val * 100)\n",
    "\n",
    "returns_disney = [0.22, 0.12, 0.01, 0.05, 0.04]\n",
    "returns_cbs = [-0.13, -0.15, 0.31, -0.06, -0.29]\n",
    "\n",
    "def calculate_variance(dataset):\n",
    "  mean = np.mean(dataset)\n",
    "  numerator = 0\n",
    "  for value in dataset:\n",
    "    numerator += ((value - mean) ** 2)\n",
    "  return numerator / len(dataset)\n",
    "\n",
    "def calculate_stddev(dataset):\n",
    "  variance = calculate_variance(dataset)\n",
    "  return sqrt(variance)\n",
    "\n",
    "stddev_disney = calculate_stddev(returns_disney)\n",
    "stddev_cbs = calculate_stddev(returns_cbs)\n",
    "\n",
    "print('The standard deviation of Disney stock returns is', display_as_percentage(stddev_disney))\n",
    "print('The standard deviation of CBS stock returns is', display_as_percentage(stddev_cbs))"
   ]
  }
 ],
 "metadata": {
  "kernelspec": {
   "display_name": "Python 3.9.6 64-bit",
   "language": "python",
   "name": "python3"
  },
  "language_info": {
   "codemirror_mode": {
    "name": "ipython",
    "version": 3
   },
   "file_extension": ".py",
   "mimetype": "text/x-python",
   "name": "python",
   "nbconvert_exporter": "python",
   "pygments_lexer": "ipython3",
   "version": "3.9.6"
  },
  "orig_nbformat": 4,
  "vscode": {
   "interpreter": {
    "hash": "81794d4967e6c3204c66dcd87b604927b115b27c00565d3d43f05ba2f3a2cb0d"
   }
  }
 },
 "nbformat": 4,
 "nbformat_minor": 2
}
