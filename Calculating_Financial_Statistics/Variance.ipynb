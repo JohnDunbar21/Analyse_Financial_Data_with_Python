{
 "cells": [
  {
   "cell_type": "markdown",
   "metadata": {},
   "source": [
    "# Variance\n",
    "\n",
    "A key statistic for understanding *risk* is **variance**. Variance is a measure of the spread of a dataset, i.e., how far apart each value is from the mean. More generally, the greater the variance, the more spread out the data is. The general formula for calculating variance is given as:\n",
    "\n",
    "$$\\sigma^2 = {\\sum_{i = 0}^n(X_i - \\bar X)^2 \\over n}"
   ]
  },
  {
   "cell_type": "code",
   "execution_count": null,
   "metadata": {},
   "outputs": [],
   "source": [
    "import numpy as np\n",
    "\n",
    "returns_disney = [0.22, 0.12, 0.01, 0.05, 0.04]\n",
    "returns_cbs = [-0.13, -0.15, 0.31, -0.06, -0.29]\n",
    "\n",
    "def calculate_variance(dataset):\n",
    "  mean = np.mean(dataset)\n",
    "  numerator = 0\n",
    "  for value in dataset:\n",
    "    numerator += ((value - mean) ** 2)\n",
    "  variance = numerator / len(dataset)\n",
    "  return variance\n",
    "\n",
    "variance_disney = calculate_variance(returns_disney)\n",
    "variance_cbs = calculate_variance(returns_cbs)\n",
    "\n",
    "print(f'The variance of Disney stock returns is {variance_disney}')\n",
    "print(f'The variance of CBS stock returns is {variance_cbs}')"
   ]
  }
 ],
 "metadata": {
  "kernelspec": {
   "display_name": "Python 3.9.6 64-bit",
   "language": "python",
   "name": "python3"
  },
  "language_info": {
   "codemirror_mode": {
    "name": "ipython",
    "version": 3
   },
   "file_extension": ".py",
   "mimetype": "text/x-python",
   "name": "python",
   "nbconvert_exporter": "python",
   "pygments_lexer": "ipython3",
   "version": "3.9.6"
  },
  "orig_nbformat": 4,
  "vscode": {
   "interpreter": {
    "hash": "81794d4967e6c3204c66dcd87b604927b115b27c00565d3d43f05ba2f3a2cb0d"
   }
  }
 },
 "nbformat": 4,
 "nbformat_minor": 2
}
