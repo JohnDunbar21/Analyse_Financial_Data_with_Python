{
 "cells": [
  {
   "cell_type": "markdown",
   "metadata": {},
   "source": [
    "# Logarithmic Rate of Return\n",
    "\n",
    "The **logarithmic rate of return** is also known as *continuously compounded return*, and represents the expected return for an investment where the earnings are assumed to be continuously reinvested over the time period, given as:\n",
    "\n",
    "$$ ROI = log(investment_{end}) - log(investment_{start}) = log({investment_{end} \\over investment_{start}}) $$\n",
    "\n",
    "The main advantage of using the logarithmic rate of return is that it is easy to draw conclusions for a single asset over time. This is expressed below in Python."
   ]
  },
  {
   "cell_type": "code",
   "execution_count": null,
   "metadata": {},
   "outputs": [],
   "source": [
    "from math import log\n",
    "\n",
    "def display_as_percentage(val):\n",
    "  return '{:.1f}%'.format(val * 100)\n",
    "\n",
    "def calculate_log_return(start_price, end_price):\n",
    "  return log(end_price / start_price)\n",
    "\n",
    "log_return = calculate_log_return(200, 250)\n",
    "\n",
    "print(f\"The log rate of return is {display_as_percentage(log_return)}\")"
   ]
  }
 ],
 "metadata": {
  "kernelspec": {
   "display_name": "Python 3.9.6 64-bit",
   "language": "python",
   "name": "python3"
  },
  "language_info": {
   "codemirror_mode": {
    "name": "ipython",
    "version": 3
   },
   "file_extension": ".py",
   "mimetype": "text/x-python",
   "name": "python",
   "nbconvert_exporter": "python",
   "pygments_lexer": "ipython3",
   "version": "3.9.6"
  },
  "orig_nbformat": 4,
  "vscode": {
   "interpreter": {
    "hash": "81794d4967e6c3204c66dcd87b604927b115b27c00565d3d43f05ba2f3a2cb0d"
   }
  }
 },
 "nbformat": 4,
 "nbformat_minor": 2
}
