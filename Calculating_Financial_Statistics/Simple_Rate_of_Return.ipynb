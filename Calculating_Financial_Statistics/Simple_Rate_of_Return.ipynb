{
 "cells": [
  {
   "cell_type": "markdown",
   "metadata": {},
   "source": [
    "# Simple Rate of Return\n",
    "\n",
    "The rate of return is usually represented as a percentage of the initial investment made, the most fundamental of which is the **simple rate of return**, given as:\n",
    "\n",
    "$$ROI = {investment_{end} - investment_{start} + dividend \\over investment_start}$$\n",
    "\n",
    "In the simple rate of return, the numerator represents the maximum amount of money that can be made from an investment. This is expressed in Python below."
   ]
  },
  {
   "cell_type": "code",
   "execution_count": null,
   "metadata": {},
   "outputs": [],
   "source": [
    "def display_as_percentage(val):\n",
    "  return '{:.1f}%'.format(val * 100)\n",
    "\n",
    "def calculate_simple_return(start_price, end_price, dividend = 0):\n",
    "  return (end_price - start_price + dividend) / start_price\n",
    "\n",
    "simple_return = calculate_simple_return(200, 250, 20)\n",
    "\n",
    "print(f\"The simple rate of return is {display_as_percentage(simple_return)}\")"
   ]
  }
 ],
 "metadata": {
  "kernelspec": {
   "display_name": "Python 3.9.6 64-bit",
   "language": "python",
   "name": "python3"
  },
  "language_info": {
   "codemirror_mode": {
    "name": "ipython",
    "version": 3
   },
   "file_extension": ".py",
   "mimetype": "text/x-python",
   "name": "python",
   "nbconvert_exporter": "python",
   "pygments_lexer": "ipython3",
   "version": "3.9.6"
  },
  "orig_nbformat": 4,
  "vscode": {
   "interpreter": {
    "hash": "81794d4967e6c3204c66dcd87b604927b115b27c00565d3d43f05ba2f3a2cb0d"
   }
  }
 },
 "nbformat": 4,
 "nbformat_minor": 2
}
