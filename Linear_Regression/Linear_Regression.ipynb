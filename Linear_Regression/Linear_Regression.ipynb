{
 "cells": [
  {
   "cell_type": "markdown",
   "metadata": {},
   "source": [
    "# Linear Regression\n",
    "\n",
    "The purpose of machine learning is often to create a model that explains some real-world data, so that we can predict what may happen next, with different inputs.\n",
    "\n",
    "The simplest model that we can fit to data is a line. When we are trying to find a line that fits a set of data best, we are performing Linear Regression.\n",
    "\n",
    "We often want to find lines to fit data, so that we can predict unknowns.\n",
    "\n",
    "A line is a rough approximation, but it allows us the ability to explain and predict variables that have a linear relationship with each other. In the rest of the lesson, we will learn how to perform Linear Regression."
   ]
  },
  {
   "cell_type": "code",
   "execution_count": 1,
   "metadata": {},
   "outputs": [
    {
     "data": {
      "image/png": "[encoded data removed]",
      "text/plain": [
       "<Figure size 640x480 with 1 Axes>"
      ]
     },
     "metadata": {},
     "output_type": "display_data"
    }
   ],
   "source": [
    "import matplotlib.pyplot as plt\n",
    "months = [1, 2, 3, 4, 5, 6, 7, 8, 9, 10, 11, 12]\n",
    "revenue = [52, 74, 79, 95, 115, 110, 129, 126, 147, 146, 156, 184]\n",
    "\n",
    "#slope:\n",
    "m = 11\n",
    "#intercept:\n",
    "b = 40\n",
    "\n",
    "y = [x * m + b for x in months]\n",
    "\n",
    "plt.plot(months, revenue, \"o\")\n",
    "plt.plot(months, y)\n",
    "\n",
    "plt.show()"
   ]
  },
  {
   "cell_type": "markdown",
   "metadata": {},
   "source": [
    "## Loss\n",
    "\n",
    "When we think about how we can assign a slope and intercept to fit a set of points, we have to define what the best fit is.\n",
    "\n",
    "For each data point, we calculate loss, a number that measures how bad the model’s (in this case, the line’s) prediction was. You may have seen this being referred to as error.\n",
    "\n",
    "We can think about loss as the squared distance from the point to the line. We do the squared distance (instead of just the distance) so that points above and below the line both contribute to total loss in the same way."
   ]
  },
  {
   "cell_type": "code",
   "execution_count": 2,
   "metadata": {},
   "outputs": [
    {
     "name": "stdout",
     "output_type": "stream",
     "text": [
      "Total loss using y_predicted1 = 17\n",
      "Total loss using y_predicted2 = 13.5\n",
      "The better fitting prediction is y_predicted2\n"
     ]
    }
   ],
   "source": [
    "x = [1, 2, 3]\n",
    "y = [5, 1, 3]\n",
    "\n",
    "#y = x\n",
    "m1 = 1\n",
    "b1 = 0\n",
    "\n",
    "#y = 0.5x + 1\n",
    "m2 = 0.5\n",
    "b2 = 1\n",
    "\n",
    "y_predicted1 = [i * m1 + b1 for i in x]\n",
    "y_predicted2 = [i * m2 + b2 for i in x]\n",
    "\n",
    "total_loss1 = 0\n",
    "squared_diffs = [(i - j) ** 2 for i, j in zip(y, y_predicted1)]\n",
    "for i in squared_diffs:\n",
    "  total_loss1 += i\n",
    "\n",
    "total_loss2 = 0\n",
    "squared_diffs = [(i - j) ** 2 for i, j in zip(y, y_predicted2)]\n",
    "for i in squared_diffs:\n",
    "  total_loss2 += i\n",
    "\n",
    "print(f\"Total loss using y_predicted1 = {total_loss1}\")\n",
    "print(f\"Total loss using y_predicted2 = {total_loss2}\")\n",
    "\n",
    "better_fit = 0\n",
    "if total_loss1 < total_loss2:\n",
    "  better_fit = 1\n",
    "better_fit = 2\n",
    "\n",
    "print(f\"The better fitting prediction is y_predicted{better_fit}\")"
   ]
  },
  {
   "cell_type": "markdown",
   "metadata": {},
   "source": [
    "The goal of a linear regression model is to find the slope and intercept pair that minimizes loss on average across all of the data."
   ]
  },
  {
   "cell_type": "markdown",
   "metadata": {},
   "source": [
    "## Gradiant Descent for Intercept\n",
    "\n",
    "As we try to minimize loss, we take each parameter we are changing, and move it as long as we are decreasing loss. It’s like we are moving down a hill, and stop once we reach the bottom. The process by which we do this is called gradient descent. We move in the direction that decreases our loss the most. Gradient refers to the slope of the curve at any point.\n",
    "\n",
    "For example, let’s say we are trying to find the intercept for a line. We currently have a guess of 10 for the intercept. At the point of 10 on the curve, the slope is downward. Therefore, if we increase the intercept, we should be lowering the loss. So we follow the gradient downwards.\n",
    "\n",
    "To find the gradient of loss as intercept changes, the formula comes out to be:\n",
    "\n",
    "$$GradientLoss_{intercept} = -{2 \\over n}\\sum_{i = 1}^n (y_i - (mx_i + b))$$\n",
    "\n",
    "Where $n$ is the number of points we have in the dataset, $m$ is the current gradient guess, and $b$ is the current intercept guess."
   ]
  },
  {
   "cell_type": "code",
   "execution_count": null,
   "metadata": {},
   "outputs": [],
   "source": [
    "\"\"\"\n",
    "Gradient Descent function for Intercept\n",
    "\"\"\"\n",
    "def get_gradient_at_b(x, y, b, m):\n",
    "  diff = sum([j - (m*i+b) for i, j in zip(x, y)])\n",
    "  b_gradient = (-2 / len(x)) * diff\n",
    "  return b_gradient"
   ]
  },
  {
   "cell_type": "markdown",
   "metadata": {},
   "source": [
    "## Gradient Descent for Slope\n",
    "\n",
    "To find the m gradient, or the way the loss changes as the slope of our line changes, we can use this formula:\n",
    "\n",
    "$$GradientLoss_{slope} = -{2 \\over n}\\sum_{i = 1}^n x_i(y_i - (mx_i + b))$$\n",
    "\n",
    "Where $n$ is the number of points we have in the dataset, $m$ is the current gradient guess, and $b$ is the current intercept guess.\n",
    "\n",
    "Once we have a way to calculate both the m gradient and the $b$ gradient, we’ll be able to follow both of those gradients downwards to the point of lowest loss for both the $m$ value and the $b$ value. Then, we’ll have the best $m$ and the best $b$ to fit our data."
   ]
  },
  {
   "cell_type": "code",
   "execution_count": null,
   "metadata": {},
   "outputs": [],
   "source": [
    "\"\"\"\n",
    "Gradient Descent function for Slope\n",
    "\"\"\"\n",
    "def get_gradient_at_m(x, y, b, m):\n",
    "  diff = sum([i*(j - (m*i+b)) for i, j in zip(x, y)])\n",
    "  m_gradient = (-2 / len(x)) * diff\n",
    "  return m_gradient"
   ]
  },
  {
   "cell_type": "markdown",
   "metadata": {},
   "source": [
    "**We can scale the size of the step by multiplying the gradient by a _learning rate_**."
   ]
  },
  {
   "cell_type": "code",
   "execution_count": 16,
   "metadata": {},
   "outputs": [
    {
     "name": "stdout",
     "output_type": "stream",
     "text": [
      "2.355 17.78333333333333\n"
     ]
    }
   ],
   "source": [
    "def get_gradient_at_b(x, y, b, m):\n",
    "  diff = sum([j - (m*i+b) for i, j in zip(x, y)])\n",
    "  b_gradient = (-2 / len(x)) * diff\n",
    "  return b_gradient\n",
    "\n",
    "def get_gradient_at_m(x, y, b, m):\n",
    "  diff = sum([i*(j - (m*i+b)) for i, j in zip(x, y)])\n",
    "  m_gradient = (-2 / len(x)) * diff\n",
    "  return m_gradient\n",
    "\n",
    "def step_gradient(x, y, b_current, m_current):\n",
    "  b_gradient = get_gradient_at_b(x, y, b_current, m_current)\n",
    "  m_gradient = get_gradient_at_m(x, y, b_current, m_current)\n",
    "  b = b_current - (0.01 * b_gradient)\n",
    "  m = m_current - (0.01 * m_gradient)\n",
    "  return b, m\n",
    "\n",
    "months = [1, 2, 3, 4, 5, 6, 7, 8, 9, 10, 11, 12]\n",
    "revenue = [52, 74, 79, 95, 115, 110, 129, 126, 147, 146, 156, 184]\n",
    "\n",
    "# Current intercept guess:\n",
    "b = 0\n",
    "# Current slope guess:\n",
    "m = 0\n",
    "\n",
    "# Call your function here to update b and m\n",
    "b, m = step_gradient(months, revenue, b, m)\n",
    "print(b, m)"
   ]
  },
  {
   "cell_type": "markdown",
   "metadata": {},
   "source": [
    "## Convergence\n",
    "\n",
    "**Convergence** is when the loss stops changing, or changes very slowly, when parameters are changed."
   ]
  },
  {
   "cell_type": "markdown",
   "metadata": {},
   "source": [
    "## Learning Rate\n",
    "\n",
    "We want our program to be able to iteratively learn what the best $m$ and $b$ values are. So for each $m$ and $b$ pair that we guess, we want to move them in the direction of the gradients we’ve calculated. But how far do we move in that direction?\n",
    "\n",
    "We have to choose a learning rate, which will determine how far down the loss curve we go. A small learning rate will take a long time to converge — you might run out of time or cycles before getting an answer. A large learning rate might skip over the best value. It might never converge.\n",
    "\n",
    "Finding the absolute best learning rate is not necessary for training a model. You just have to find a learning rate large enough that gradient descent converges with the efficiency you need, and not so large that convergence never happens."
   ]
  },
  {
   "cell_type": "code",
   "execution_count": 15,
   "metadata": {},
   "outputs": [
    {
     "name": "stdout",
     "output_type": "stream",
     "text": [
      "49.60215351339813 10.463427732364998\n"
     ]
    },
    {
     "data": {
      "image/png": "[encoded data removed]",
      "text/plain": [
       "<Figure size 640x480 with 1 Axes>"
      ]
     },
     "metadata": {},
     "output_type": "display_data"
    }
   ],
   "source": [
    "\n",
    "def get_gradient_at_b(x, y, b, m):\n",
    "  diff = sum([j - (m*i+b) for i, j in zip(x, y)])\n",
    "  b_gradient = (-2 / len(x)) * diff\n",
    "  return b_gradient\n",
    "\n",
    "def get_gradient_at_m(x, y, b, m):\n",
    "  diff = sum([i*(j - (m*i+b)) for i, j in zip(x, y)])\n",
    "  m_gradient = (-2 / len(x)) * diff\n",
    "  return m_gradient\n",
    "\n",
    "def step_gradient(x, y, b_current, m_current, learning_rate):\n",
    "  b_gradient = get_gradient_at_b(x, y, b_current, m_current)\n",
    "  m_gradient = get_gradient_at_m(x, y, b_current, m_current)\n",
    "  b = b_current - (learning_rate * b_gradient)\n",
    "  m = m_current - (learning_rate * m_gradient)\n",
    "  return b, m\n",
    "\n",
    "def gradient_descent(x, y, learning_rate, num_iterations):\n",
    "  b = 0\n",
    "  m = 0\n",
    "  for step in range(num_iterations):\n",
    "    b, m = step_gradient(x, y, b, m, learning_rate)\n",
    "  return b, m\n",
    "\n",
    "months = [1, 2, 3, 4, 5, 6, 7, 8, 9, 10, 11, 12]\n",
    "revenue = [52, 74, 79, 95, 115, 110, 129, 126, 147, 146, 156, 184]\n",
    "\n",
    "#Uncomment the line below to run your gradient_descent function\n",
    "b, m = gradient_descent(months, revenue, 0.01, 1000)\n",
    "\n",
    "#Uncomment the lines below to see the line you've settled upon!\n",
    "y = [m*x + b for x in months]\n",
    "\n",
    "print(b, m)\n",
    "\n",
    "plt.plot(months, revenue, \"o\")\n",
    "plt.plot(months, y)\n",
    "\n",
    "plt.show()"
   ]
  }
 ],
 "metadata": {
  "kernelspec": {
   "display_name": "Python 3.9.6 64-bit",
   "language": "python",
   "name": "python3"
  },
  "language_info": {
   "codemirror_mode": {
    "name": "ipython",
    "version": 3
   },
   "file_extension": ".py",
   "mimetype": "text/x-python",
   "name": "python",
   "nbconvert_exporter": "python",
   "pygments_lexer": "ipython3",
   "version": "3.9.6"
  },
  "orig_nbformat": 4,
  "vscode": {
   "interpreter": {
    "hash": "81794d4967e6c3204c66dcd87b604927b115b27c00565d3d43f05ba2f3a2cb0d"
   }
  }
 },
 "nbformat": 4,
 "nbformat_minor": 2
}
