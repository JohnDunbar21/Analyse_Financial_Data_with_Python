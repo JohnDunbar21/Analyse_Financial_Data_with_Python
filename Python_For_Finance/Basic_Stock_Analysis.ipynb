{
 "cells": [
  {
   "cell_type": "markdown",
   "metadata": {},
   "source": [
    "# Basic Stock Analysis\n",
    "\n",
    "Analysis of listed company stock data can be carried out in a variety of ways, but a good way to start is through finding the annualised volatility of the company's stock.\n",
    "\n",
    "The annualised volatility uses historical data to recognise patterns and can inform a potential investor of the frequency and intensity of share price changes. Below is code that calculates the annualised volatility on Apple over the 2022/23 fiscal year. "
   ]
  },
  {
   "cell_type": "code",
   "execution_count": null,
   "metadata": {},
   "outputs": [],
   "source": [
    "%pip install numpy pandas matplotlib"
   ]
  },
  {
   "cell_type": "code",
   "execution_count": null,
   "metadata": {},
   "outputs": [],
   "source": [
    "import numpy as np\n",
    "import pandas as pd\n",
    "import matplotlib.pyplot as plt\n",
    "\n",
    "df = pd.read_csv('Apple_12_Months_2023.csv')\n",
    "print(df.head(5))\n",
    "\n",
    "df['Daily Log Rate of Return'] = np.log(df['Close']/df['Close'].shift(1))\n",
    "\n",
    "#print(df['Daily Log Rate of Return'])\n",
    "\n",
    "stdev = np.std(df['Daily Log Rate of Return'])\n",
    "print(f\"Standard Deviation of Daily Log Rate of Return = {stdev.round(4)}\")\n",
    "print(f\"Annualised Volatility = {(stdev * np.sqrt(252)).round(4) * 100}%\")\n",
    "\n",
    "plt.hist(df['Daily Log Rate of Return'].dropna())\n",
    "plt.title('Histogram of AAPL Daily Log Rates of Return')\n",
    "plt.xlabel('Log Rate of Return')\n",
    "plt.ylabel('Number of Days')\n",
    "plt.show()"
   ]
  },
  {
   "cell_type": "markdown",
   "metadata": {},
   "source": [
    "With an annualised volatility of 31.81%, this means that this is a relatively stable investment but *can* be subject to wild swings in share price value. \n",
    "\n",
    "Investors who prefer safer stocks will look for an annualised volatility of around 10%, whereas those who have a higher risk tolerance threshold will take upwards of 20% or more."
   ]
  }
 ],
 "metadata": {
  "kernelspec": {
   "display_name": "Python 3.9.6 64-bit",
   "language": "python",
   "name": "python3"
  },
  "language_info": {
   "codemirror_mode": {
    "name": "ipython",
    "version": 3
   },
   "file_extension": ".py",
   "mimetype": "text/x-python",
   "name": "python",
   "nbconvert_exporter": "python",
   "pygments_lexer": "ipython3",
   "version": "3.9.6"
  },
  "orig_nbformat": 4,
  "vscode": {
   "interpreter": {
    "hash": "81794d4967e6c3204c66dcd87b604927b115b27c00565d3d43f05ba2f3a2cb0d"
   }
  }
 },
 "nbformat": 4,
 "nbformat_minor": 2
}
