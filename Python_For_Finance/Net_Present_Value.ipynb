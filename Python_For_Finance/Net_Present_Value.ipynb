{
 "cells": [
  {
   "cell_type": "markdown",
   "metadata": {},
   "source": [
    "# Calculating Net Present Value\n",
    "\n",
    "The _**Net Present Value**_ (NPV) helps analyse the profitability of a project by giving the present value of the future cashflows of said project, and is given by the formula:\n",
    "\n",
    "$$NPV = \\sum_{i = 0}^n {CF_t\\over (1 + r)^2}$$\n",
    "\n",
    "Since any NPV calculation is dependent on _**r**_ - the discount rate applied to future cashflows - it can be useful to calculate differnet NPVs at different discount rates, building an NPV profile to see how the NPV of a project changes based upon the discount rate applied to the calculation.\n",
    "\n",
    "For example, consider a bank who has to choose to invest in one of two projects that will generate annual cashflows over a 20 year period. By building and visualising an NPV profile, it can be determined how discount rates affect each project and thus lead the bank to make the best decision possible. This is illustrated below where Project A is the red line, and Project B is the blue line."
   ]
  },
  {
   "cell_type": "code",
   "execution_count": null,
   "metadata": {},
   "outputs": [],
   "source": [
    "%pip install matplotlib"
   ]
  },
  {
   "cell_type": "code",
   "execution_count": null,
   "metadata": {},
   "outputs": [],
   "source": [
    "import matplotlib.pyplot as plt\n",
    "\n",
    "# Project A Cashflows\n",
    "project_a = [-1000000, 0, 0, 50000, 50000, 200000, 250000, 250000, 250000, 250000, 375000, 375000, 375000, 375000, 375000, 250000, 250000, 250000, 250000, 100000]\n",
    "\n",
    "# Project B Cashflows\n",
    "project_b = [-1000000, 50000, 50000, 50000, 50000, 250000, 500000, 500000, 500000, 500000, 100000, 100000, 100000, 100000, 100000, 100000, 100000, 100000, 100000, 100000]\n",
    "\n",
    "discount_rate = [0.05, 0.055, 0.06, 0.065, 0.07, 0.075, 0.08, 0.085, 0.09, 0.095, 0.1, 0.105, 0.11, 0.115, 0.12, 0.125, 0.13, 0.135, 0.14, 0.145, 0.15, 0.155, 0.16, 0.165, 0.17, 0.175, 0.18]\n",
    "\n",
    "def calculate_npv(rate, cash_flow):\n",
    "    npv = 0\n",
    "    for t in range(len(cash_flow)):\n",
    "        npv += cash_flow[t]/(1+rate)**t\n",
    "    return npv\n",
    "\n",
    "npvs_a = list()\n",
    "npvs_b = list()\n",
    "for rate in discount_rate:\n",
    "  npv_a = calculate_npv(rate,project_a)\n",
    "  npvs_a.append(npv_a)\n",
    "  npv_b = calculate_npv(rate,project_b)\n",
    "  npvs_b.append(npv_b)\n",
    "  \n",
    "plt.plot(discount_rate,npvs_a, linewidth = 2.0, color = \"red\", label = \"Project A\")\n",
    "plt.plot(discount_rate,npvs_b, linewidth = 2.0, color = \"blue\", label = \"Project B\")\n",
    "plt.axhline(y=0, linewidth = 0.5, color = \"black\")\n",
    "plt.title('NPV Profile for Projects A and B')\n",
    "plt.xlabel('Discount Rate')\n",
    "plt.ylabel('Net Present Value')\n",
    "plt.legend()\n",
    "plt.show()"
   ]
  },
  {
   "cell_type": "markdown",
   "metadata": {},
   "source": [
    "By using the generated graph, we can see that Project B has a higher NPV with discount rates over ~0.09, i.e., 9% or more."
   ]
  }
 ],
 "metadata": {
  "kernelspec": {
   "display_name": "Python 3.9.6 64-bit",
   "language": "python",
   "name": "python3"
  },
  "language_info": {
   "codemirror_mode": {
    "name": "ipython",
    "version": 3
   },
   "file_extension": ".py",
   "mimetype": "text/x-python",
   "name": "python",
   "nbconvert_exporter": "python",
   "pygments_lexer": "ipython3",
   "version": "3.9.6"
  },
  "orig_nbformat": 4,
  "vscode": {
   "interpreter": {
    "hash": "81794d4967e6c3204c66dcd87b604927b115b27c00565d3d43f05ba2f3a2cb0d"
   }
  }
 },
 "nbformat": 4,
 "nbformat_minor": 2
}
